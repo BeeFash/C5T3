{
 "cells": [
  {
   "cell_type": "code",
   "execution_count": 108,
   "metadata": {},
   "outputs": [],
   "source": [
    "import numpy as np\n",
    "import seaborn as sb\n",
    "import pandas as pd\n",
    "import scipy\n",
    "from math import sqrt\n",
    "import matplotlib.pyplot as plt\n",
    "from sklearn import svm, preprocessing\n",
    "\n",
    "#estimators\n",
    "from sklearn.ensemble import RandomForestRegressor\n",
    "from sklearn.linear_model import LinearRegression\n",
    "from sklearn.svm import SVR\n",
    "from sklearn import linear_model\n",
    "from sklearn.ensemble import GradientBoostingClassifier\n",
    "from sklearn import tree\n",
    "from sklearn import svm\n",
    "from sklearn.neighbors import (NeighborhoodComponentsAnalysis, KNeighborsClassifier)\n",
    "\n",
    "\n",
    "#model metrics\n",
    "from sklearn.metrics import mean_squared_error\n",
    "from sklearn.metrics import r2_score\n",
    "from sklearn.model_selection import cross_val_score\n",
    "from sklearn.feature_selection import RFECV\n",
    "\n",
    "#cross validation\n",
    "from sklearn.model_selection import train_test_split"
   ]
  },
  {
   "cell_type": "code",
   "execution_count": 5,
   "metadata": {},
   "outputs": [],
   "source": [
    "rawData = pd.read_csv('CreditOne2.csv', header=1)"
   ]
  },
  {
   "cell_type": "code",
   "execution_count": 6,
   "metadata": {},
   "outputs": [
    {
     "data": {
      "text/html": [
       "<div>\n",
       "<style scoped>\n",
       "    .dataframe tbody tr th:only-of-type {\n",
       "        vertical-align: middle;\n",
       "    }\n",
       "\n",
       "    .dataframe tbody tr th {\n",
       "        vertical-align: top;\n",
       "    }\n",
       "\n",
       "    .dataframe thead th {\n",
       "        text-align: right;\n",
       "    }\n",
       "</style>\n",
       "<table border=\"1\" class=\"dataframe\">\n",
       "  <thead>\n",
       "    <tr style=\"text-align: right;\">\n",
       "      <th></th>\n",
       "      <th>LIMIT_BAL</th>\n",
       "      <th>SEX</th>\n",
       "      <th>EDUCATION</th>\n",
       "      <th>MARRIAGE</th>\n",
       "      <th>AGE</th>\n",
       "      <th>PAY_0</th>\n",
       "      <th>PAY_2</th>\n",
       "      <th>PAY_3</th>\n",
       "      <th>PAY_4</th>\n",
       "      <th>PAY_5</th>\n",
       "      <th>...</th>\n",
       "      <th>BILL_AMT4</th>\n",
       "      <th>BILL_AMT5</th>\n",
       "      <th>BILL_AMT6</th>\n",
       "      <th>PAY_AMT1</th>\n",
       "      <th>PAY_AMT2</th>\n",
       "      <th>PAY_AMT3</th>\n",
       "      <th>PAY_AMT4</th>\n",
       "      <th>PAY_AMT5</th>\n",
       "      <th>PAY_AMT6</th>\n",
       "      <th>default payment next month</th>\n",
       "    </tr>\n",
       "  </thead>\n",
       "  <tbody>\n",
       "    <tr>\n",
       "      <td>0</td>\n",
       "      <td>20000</td>\n",
       "      <td>2</td>\n",
       "      <td>2</td>\n",
       "      <td>1</td>\n",
       "      <td>24</td>\n",
       "      <td>2</td>\n",
       "      <td>2</td>\n",
       "      <td>-1</td>\n",
       "      <td>-1</td>\n",
       "      <td>-2</td>\n",
       "      <td>...</td>\n",
       "      <td>0</td>\n",
       "      <td>0</td>\n",
       "      <td>0</td>\n",
       "      <td>0</td>\n",
       "      <td>689</td>\n",
       "      <td>0</td>\n",
       "      <td>0</td>\n",
       "      <td>0</td>\n",
       "      <td>0</td>\n",
       "      <td>1</td>\n",
       "    </tr>\n",
       "    <tr>\n",
       "      <td>1</td>\n",
       "      <td>120000</td>\n",
       "      <td>2</td>\n",
       "      <td>2</td>\n",
       "      <td>2</td>\n",
       "      <td>26</td>\n",
       "      <td>-1</td>\n",
       "      <td>2</td>\n",
       "      <td>0</td>\n",
       "      <td>0</td>\n",
       "      <td>0</td>\n",
       "      <td>...</td>\n",
       "      <td>3272</td>\n",
       "      <td>3455</td>\n",
       "      <td>3261</td>\n",
       "      <td>0</td>\n",
       "      <td>1000</td>\n",
       "      <td>1000</td>\n",
       "      <td>1000</td>\n",
       "      <td>0</td>\n",
       "      <td>2000</td>\n",
       "      <td>1</td>\n",
       "    </tr>\n",
       "    <tr>\n",
       "      <td>2</td>\n",
       "      <td>90000</td>\n",
       "      <td>2</td>\n",
       "      <td>2</td>\n",
       "      <td>2</td>\n",
       "      <td>34</td>\n",
       "      <td>0</td>\n",
       "      <td>0</td>\n",
       "      <td>0</td>\n",
       "      <td>0</td>\n",
       "      <td>0</td>\n",
       "      <td>...</td>\n",
       "      <td>14331</td>\n",
       "      <td>14948</td>\n",
       "      <td>15549</td>\n",
       "      <td>1518</td>\n",
       "      <td>1500</td>\n",
       "      <td>1000</td>\n",
       "      <td>1000</td>\n",
       "      <td>1000</td>\n",
       "      <td>5000</td>\n",
       "      <td>0</td>\n",
       "    </tr>\n",
       "    <tr>\n",
       "      <td>3</td>\n",
       "      <td>50000</td>\n",
       "      <td>2</td>\n",
       "      <td>2</td>\n",
       "      <td>1</td>\n",
       "      <td>37</td>\n",
       "      <td>0</td>\n",
       "      <td>0</td>\n",
       "      <td>0</td>\n",
       "      <td>0</td>\n",
       "      <td>0</td>\n",
       "      <td>...</td>\n",
       "      <td>28314</td>\n",
       "      <td>28959</td>\n",
       "      <td>29547</td>\n",
       "      <td>2000</td>\n",
       "      <td>2019</td>\n",
       "      <td>1200</td>\n",
       "      <td>1100</td>\n",
       "      <td>1069</td>\n",
       "      <td>1000</td>\n",
       "      <td>0</td>\n",
       "    </tr>\n",
       "    <tr>\n",
       "      <td>4</td>\n",
       "      <td>50000</td>\n",
       "      <td>1</td>\n",
       "      <td>2</td>\n",
       "      <td>1</td>\n",
       "      <td>57</td>\n",
       "      <td>-1</td>\n",
       "      <td>0</td>\n",
       "      <td>-1</td>\n",
       "      <td>0</td>\n",
       "      <td>0</td>\n",
       "      <td>...</td>\n",
       "      <td>20940</td>\n",
       "      <td>19146</td>\n",
       "      <td>19131</td>\n",
       "      <td>2000</td>\n",
       "      <td>36681</td>\n",
       "      <td>10000</td>\n",
       "      <td>9000</td>\n",
       "      <td>689</td>\n",
       "      <td>679</td>\n",
       "      <td>0</td>\n",
       "    </tr>\n",
       "  </tbody>\n",
       "</table>\n",
       "<p>5 rows × 24 columns</p>\n",
       "</div>"
      ],
      "text/plain": [
       "   LIMIT_BAL  SEX  EDUCATION  MARRIAGE  AGE  PAY_0  PAY_2  PAY_3  PAY_4  \\\n",
       "0      20000    2          2         1   24      2      2     -1     -1   \n",
       "1     120000    2          2         2   26     -1      2      0      0   \n",
       "2      90000    2          2         2   34      0      0      0      0   \n",
       "3      50000    2          2         1   37      0      0      0      0   \n",
       "4      50000    1          2         1   57     -1      0     -1      0   \n",
       "\n",
       "   PAY_5  ...  BILL_AMT4  BILL_AMT5  BILL_AMT6  PAY_AMT1  PAY_AMT2  PAY_AMT3  \\\n",
       "0     -2  ...          0          0          0         0       689         0   \n",
       "1      0  ...       3272       3455       3261         0      1000      1000   \n",
       "2      0  ...      14331      14948      15549      1518      1500      1000   \n",
       "3      0  ...      28314      28959      29547      2000      2019      1200   \n",
       "4      0  ...      20940      19146      19131      2000     36681     10000   \n",
       "\n",
       "   PAY_AMT4  PAY_AMT5  PAY_AMT6  default payment next month  \n",
       "0         0         0         0                           1  \n",
       "1      1000         0      2000                           1  \n",
       "2      1000      1000      5000                           0  \n",
       "3      1100      1069      1000                           0  \n",
       "4      9000       689       679                           0  \n",
       "\n",
       "[5 rows x 24 columns]"
      ]
     },
     "execution_count": 6,
     "metadata": {},
     "output_type": "execute_result"
    }
   ],
   "source": [
    "rawData.head()"
   ]
  },
  {
   "cell_type": "code",
   "execution_count": 7,
   "metadata": {},
   "outputs": [
    {
     "name": "stdout",
     "output_type": "stream",
     "text": [
      "<class 'pandas.core.frame.DataFrame'>\n",
      "RangeIndex: 20000 entries, 0 to 19999\n",
      "Data columns (total 24 columns):\n",
      "LIMIT_BAL                     20000 non-null int64\n",
      "SEX                           20000 non-null int64\n",
      "EDUCATION                     20000 non-null int64\n",
      "MARRIAGE                      20000 non-null int64\n",
      "AGE                           20000 non-null int64\n",
      "PAY_0                         20000 non-null int64\n",
      "PAY_2                         20000 non-null int64\n",
      "PAY_3                         20000 non-null int64\n",
      "PAY_4                         20000 non-null int64\n",
      "PAY_5                         20000 non-null int64\n",
      "PAY_6                         20000 non-null int64\n",
      "BILL_AMT1                     20000 non-null int64\n",
      "BILL_AMT2                     20000 non-null int64\n",
      "BILL_AMT3                     20000 non-null int64\n",
      "BILL_AMT4                     20000 non-null int64\n",
      "BILL_AMT5                     20000 non-null int64\n",
      "BILL_AMT6                     20000 non-null int64\n",
      "PAY_AMT1                      20000 non-null int64\n",
      "PAY_AMT2                      20000 non-null int64\n",
      "PAY_AMT3                      20000 non-null int64\n",
      "PAY_AMT4                      20000 non-null int64\n",
      "PAY_AMT5                      20000 non-null int64\n",
      "PAY_AMT6                      20000 non-null int64\n",
      "default payment next month    20000 non-null int64\n",
      "dtypes: int64(24)\n",
      "memory usage: 3.7 MB\n"
     ]
    }
   ],
   "source": [
    "rawData.info()"
   ]
  },
  {
   "cell_type": "code",
   "execution_count": 8,
   "metadata": {},
   "outputs": [],
   "source": [
    "features = rawData.iloc[:,12:23]"
   ]
  },
  {
   "cell_type": "code",
   "execution_count": 9,
   "metadata": {},
   "outputs": [
    {
     "name": "stdout",
     "output_type": "stream",
     "text": [
      "Summary of feature sample\n"
     ]
    }
   ],
   "source": [
    "print('Summary of feature sample')"
   ]
  },
  {
   "cell_type": "code",
   "execution_count": 10,
   "metadata": {},
   "outputs": [
    {
     "data": {
      "text/html": [
       "<div>\n",
       "<style scoped>\n",
       "    .dataframe tbody tr th:only-of-type {\n",
       "        vertical-align: middle;\n",
       "    }\n",
       "\n",
       "    .dataframe tbody tr th {\n",
       "        vertical-align: top;\n",
       "    }\n",
       "\n",
       "    .dataframe thead th {\n",
       "        text-align: right;\n",
       "    }\n",
       "</style>\n",
       "<table border=\"1\" class=\"dataframe\">\n",
       "  <thead>\n",
       "    <tr style=\"text-align: right;\">\n",
       "      <th></th>\n",
       "      <th>BILL_AMT2</th>\n",
       "      <th>BILL_AMT3</th>\n",
       "      <th>BILL_AMT4</th>\n",
       "      <th>BILL_AMT5</th>\n",
       "      <th>BILL_AMT6</th>\n",
       "      <th>PAY_AMT1</th>\n",
       "      <th>PAY_AMT2</th>\n",
       "      <th>PAY_AMT3</th>\n",
       "      <th>PAY_AMT4</th>\n",
       "      <th>PAY_AMT5</th>\n",
       "      <th>PAY_AMT6</th>\n",
       "    </tr>\n",
       "  </thead>\n",
       "  <tbody>\n",
       "    <tr>\n",
       "      <td>0</td>\n",
       "      <td>3102</td>\n",
       "      <td>689</td>\n",
       "      <td>0</td>\n",
       "      <td>0</td>\n",
       "      <td>0</td>\n",
       "      <td>0</td>\n",
       "      <td>689</td>\n",
       "      <td>0</td>\n",
       "      <td>0</td>\n",
       "      <td>0</td>\n",
       "      <td>0</td>\n",
       "    </tr>\n",
       "    <tr>\n",
       "      <td>1</td>\n",
       "      <td>1725</td>\n",
       "      <td>2682</td>\n",
       "      <td>3272</td>\n",
       "      <td>3455</td>\n",
       "      <td>3261</td>\n",
       "      <td>0</td>\n",
       "      <td>1000</td>\n",
       "      <td>1000</td>\n",
       "      <td>1000</td>\n",
       "      <td>0</td>\n",
       "      <td>2000</td>\n",
       "    </tr>\n",
       "    <tr>\n",
       "      <td>2</td>\n",
       "      <td>14027</td>\n",
       "      <td>13559</td>\n",
       "      <td>14331</td>\n",
       "      <td>14948</td>\n",
       "      <td>15549</td>\n",
       "      <td>1518</td>\n",
       "      <td>1500</td>\n",
       "      <td>1000</td>\n",
       "      <td>1000</td>\n",
       "      <td>1000</td>\n",
       "      <td>5000</td>\n",
       "    </tr>\n",
       "    <tr>\n",
       "      <td>3</td>\n",
       "      <td>48233</td>\n",
       "      <td>49291</td>\n",
       "      <td>28314</td>\n",
       "      <td>28959</td>\n",
       "      <td>29547</td>\n",
       "      <td>2000</td>\n",
       "      <td>2019</td>\n",
       "      <td>1200</td>\n",
       "      <td>1100</td>\n",
       "      <td>1069</td>\n",
       "      <td>1000</td>\n",
       "    </tr>\n",
       "    <tr>\n",
       "      <td>4</td>\n",
       "      <td>5670</td>\n",
       "      <td>35835</td>\n",
       "      <td>20940</td>\n",
       "      <td>19146</td>\n",
       "      <td>19131</td>\n",
       "      <td>2000</td>\n",
       "      <td>36681</td>\n",
       "      <td>10000</td>\n",
       "      <td>9000</td>\n",
       "      <td>689</td>\n",
       "      <td>679</td>\n",
       "    </tr>\n",
       "  </tbody>\n",
       "</table>\n",
       "</div>"
      ],
      "text/plain": [
       "   BILL_AMT2  BILL_AMT3  BILL_AMT4  BILL_AMT5  BILL_AMT6  PAY_AMT1  PAY_AMT2  \\\n",
       "0       3102        689          0          0          0         0       689   \n",
       "1       1725       2682       3272       3455       3261         0      1000   \n",
       "2      14027      13559      14331      14948      15549      1518      1500   \n",
       "3      48233      49291      28314      28959      29547      2000      2019   \n",
       "4       5670      35835      20940      19146      19131      2000     36681   \n",
       "\n",
       "   PAY_AMT3  PAY_AMT4  PAY_AMT5  PAY_AMT6  \n",
       "0         0         0         0         0  \n",
       "1      1000      1000         0      2000  \n",
       "2      1000      1000      1000      5000  \n",
       "3      1200      1100      1069      1000  \n",
       "4     10000      9000       689       679  "
      ]
     },
     "execution_count": 10,
     "metadata": {},
     "output_type": "execute_result"
    }
   ],
   "source": [
    "features.head()"
   ]
  },
  {
   "cell_type": "code",
   "execution_count": 11,
   "metadata": {},
   "outputs": [],
   "source": [
    "depVar = rawData['PAY_AMT6']"
   ]
  },
  {
   "cell_type": "code",
   "execution_count": 12,
   "metadata": {},
   "outputs": [],
   "source": [
    "X_train = (features[: 14000])"
   ]
  },
  {
   "cell_type": "code",
   "execution_count": 13,
   "metadata": {},
   "outputs": [
    {
     "data": {
      "text/html": [
       "<div>\n",
       "<style scoped>\n",
       "    .dataframe tbody tr th:only-of-type {\n",
       "        vertical-align: middle;\n",
       "    }\n",
       "\n",
       "    .dataframe tbody tr th {\n",
       "        vertical-align: top;\n",
       "    }\n",
       "\n",
       "    .dataframe thead th {\n",
       "        text-align: right;\n",
       "    }\n",
       "</style>\n",
       "<table border=\"1\" class=\"dataframe\">\n",
       "  <thead>\n",
       "    <tr style=\"text-align: right;\">\n",
       "      <th></th>\n",
       "      <th>BILL_AMT2</th>\n",
       "      <th>BILL_AMT3</th>\n",
       "      <th>BILL_AMT4</th>\n",
       "      <th>BILL_AMT5</th>\n",
       "      <th>BILL_AMT6</th>\n",
       "      <th>PAY_AMT1</th>\n",
       "      <th>PAY_AMT2</th>\n",
       "      <th>PAY_AMT3</th>\n",
       "      <th>PAY_AMT4</th>\n",
       "      <th>PAY_AMT5</th>\n",
       "      <th>PAY_AMT6</th>\n",
       "    </tr>\n",
       "  </thead>\n",
       "  <tbody>\n",
       "    <tr>\n",
       "      <td>0</td>\n",
       "      <td>3102</td>\n",
       "      <td>689</td>\n",
       "      <td>0</td>\n",
       "      <td>0</td>\n",
       "      <td>0</td>\n",
       "      <td>0</td>\n",
       "      <td>689</td>\n",
       "      <td>0</td>\n",
       "      <td>0</td>\n",
       "      <td>0</td>\n",
       "      <td>0</td>\n",
       "    </tr>\n",
       "    <tr>\n",
       "      <td>1</td>\n",
       "      <td>1725</td>\n",
       "      <td>2682</td>\n",
       "      <td>3272</td>\n",
       "      <td>3455</td>\n",
       "      <td>3261</td>\n",
       "      <td>0</td>\n",
       "      <td>1000</td>\n",
       "      <td>1000</td>\n",
       "      <td>1000</td>\n",
       "      <td>0</td>\n",
       "      <td>2000</td>\n",
       "    </tr>\n",
       "    <tr>\n",
       "      <td>2</td>\n",
       "      <td>14027</td>\n",
       "      <td>13559</td>\n",
       "      <td>14331</td>\n",
       "      <td>14948</td>\n",
       "      <td>15549</td>\n",
       "      <td>1518</td>\n",
       "      <td>1500</td>\n",
       "      <td>1000</td>\n",
       "      <td>1000</td>\n",
       "      <td>1000</td>\n",
       "      <td>5000</td>\n",
       "    </tr>\n",
       "    <tr>\n",
       "      <td>3</td>\n",
       "      <td>48233</td>\n",
       "      <td>49291</td>\n",
       "      <td>28314</td>\n",
       "      <td>28959</td>\n",
       "      <td>29547</td>\n",
       "      <td>2000</td>\n",
       "      <td>2019</td>\n",
       "      <td>1200</td>\n",
       "      <td>1100</td>\n",
       "      <td>1069</td>\n",
       "      <td>1000</td>\n",
       "    </tr>\n",
       "    <tr>\n",
       "      <td>4</td>\n",
       "      <td>5670</td>\n",
       "      <td>35835</td>\n",
       "      <td>20940</td>\n",
       "      <td>19146</td>\n",
       "      <td>19131</td>\n",
       "      <td>2000</td>\n",
       "      <td>36681</td>\n",
       "      <td>10000</td>\n",
       "      <td>9000</td>\n",
       "      <td>689</td>\n",
       "      <td>679</td>\n",
       "    </tr>\n",
       "  </tbody>\n",
       "</table>\n",
       "</div>"
      ],
      "text/plain": [
       "   BILL_AMT2  BILL_AMT3  BILL_AMT4  BILL_AMT5  BILL_AMT6  PAY_AMT1  PAY_AMT2  \\\n",
       "0       3102        689          0          0          0         0       689   \n",
       "1       1725       2682       3272       3455       3261         0      1000   \n",
       "2      14027      13559      14331      14948      15549      1518      1500   \n",
       "3      48233      49291      28314      28959      29547      2000      2019   \n",
       "4       5670      35835      20940      19146      19131      2000     36681   \n",
       "\n",
       "   PAY_AMT3  PAY_AMT4  PAY_AMT5  PAY_AMT6  \n",
       "0         0         0         0         0  \n",
       "1      1000      1000         0      2000  \n",
       "2      1000      1000      1000      5000  \n",
       "3      1200      1100      1069      1000  \n",
       "4     10000      9000       689       679  "
      ]
     },
     "execution_count": 13,
     "metadata": {},
     "output_type": "execute_result"
    }
   ],
   "source": [
    "X_train.head()"
   ]
  },
  {
   "cell_type": "code",
   "execution_count": 14,
   "metadata": {},
   "outputs": [],
   "source": [
    "y_train = depVar[: 14000]"
   ]
  },
  {
   "cell_type": "code",
   "execution_count": 15,
   "metadata": {},
   "outputs": [],
   "source": [
    "y_train_count = len(y_train.index)"
   ]
  },
  {
   "cell_type": "code",
   "execution_count": 16,
   "metadata": {},
   "outputs": [
    {
     "name": "stdout",
     "output_type": "stream",
     "text": [
      "The number of observations in the Y training set are: 14000\n"
     ]
    }
   ],
   "source": [
    "print('The number of observations in the Y training set are:',str(y_train_count))"
   ]
  },
  {
   "cell_type": "code",
   "execution_count": 17,
   "metadata": {},
   "outputs": [
    {
     "data": {
      "text/plain": [
       "0       0\n",
       "1    2000\n",
       "2    5000\n",
       "3    1000\n",
       "4     679\n",
       "Name: PAY_AMT6, dtype: int64"
      ]
     },
     "execution_count": 17,
     "metadata": {},
     "output_type": "execute_result"
    }
   ],
   "source": [
    "y_train.head()"
   ]
  },
  {
   "cell_type": "code",
   "execution_count": 18,
   "metadata": {},
   "outputs": [],
   "source": [
    "#Testing Set (X Testing)\n",
    "X_test = features[-6000:]"
   ]
  },
  {
   "cell_type": "code",
   "execution_count": 19,
   "metadata": {},
   "outputs": [],
   "source": [
    "X_test_count = len(X_test.index)"
   ]
  },
  {
   "cell_type": "code",
   "execution_count": 20,
   "metadata": {},
   "outputs": [
    {
     "name": "stdout",
     "output_type": "stream",
     "text": [
      "The number of observations in the feature testing set is: 6000\n"
     ]
    }
   ],
   "source": [
    "print('The number of observations in the feature testing set is:',str(X_test_count))"
   ]
  },
  {
   "cell_type": "code",
   "execution_count": 21,
   "metadata": {},
   "outputs": [
    {
     "name": "stdout",
     "output_type": "stream",
     "text": [
      "       BILL_AMT2  BILL_AMT3  BILL_AMT4  BILL_AMT5  BILL_AMT6  PAY_AMT1  \\\n",
      "14000      15252      18093      18499      20898      19999         0   \n",
      "14001      75329      64228      49103      48649      49701      3000   \n",
      "14002      31546      28405      27959      27785      28123      1746   \n",
      "14003      52163      51060      54200      52734      55903      2460   \n",
      "14004      29803      30766      29918      29071      29527      3582   \n",
      "\n",
      "       PAY_AMT2  PAY_AMT3  PAY_AMT4  PAY_AMT5  PAY_AMT6  \n",
      "14000      3103      1000      3000         0         0  \n",
      "14001      2500      1800      2000      1800      2000  \n",
      "14002      1800      1729       945      1149      1200  \n",
      "14003         0      4600         0      4200      2200  \n",
      "14004      1734         0      1148      1034      2667  \n"
     ]
    }
   ],
   "source": [
    "print(X_test.head())"
   ]
  },
  {
   "cell_type": "code",
   "execution_count": 22,
   "metadata": {},
   "outputs": [],
   "source": [
    "#Ground Truth (y_test) \n",
    "y_test = depVar[-6000:]"
   ]
  },
  {
   "cell_type": "code",
   "execution_count": 23,
   "metadata": {},
   "outputs": [],
   "source": [
    "y_test_count = len(y_test.index)"
   ]
  },
  {
   "cell_type": "code",
   "execution_count": 24,
   "metadata": {},
   "outputs": [
    {
     "name": "stdout",
     "output_type": "stream",
     "text": [
      "The number of observations in the Y training set are: 6000\n"
     ]
    }
   ],
   "source": [
    "print('The number of observations in the Y training set are:',str(y_test_count))"
   ]
  },
  {
   "cell_type": "code",
   "execution_count": 25,
   "metadata": {},
   "outputs": [
    {
     "data": {
      "text/plain": [
       "14000       0\n",
       "14001    2000\n",
       "14002    1200\n",
       "14003    2200\n",
       "14004    2667\n",
       "Name: PAY_AMT6, dtype: int64"
      ]
     },
     "execution_count": 25,
     "metadata": {},
     "output_type": "execute_result"
    }
   ],
   "source": [
    "y_test.head()"
   ]
  },
  {
   "cell_type": "code",
   "execution_count": 26,
   "metadata": {},
   "outputs": [],
   "source": [
    "X_train, X_test, y_train, y_test = train_test_split(X_train, y_train)"
   ]
  },
  {
   "cell_type": "code",
   "execution_count": 27,
   "metadata": {},
   "outputs": [
    {
     "data": {
      "text/plain": [
       "((10500, 11), (3500, 11))"
      ]
     },
     "execution_count": 27,
     "metadata": {},
     "output_type": "execute_result"
    }
   ],
   "source": [
    "X_train.shape, X_test.shape"
   ]
  },
  {
   "cell_type": "code",
   "execution_count": 28,
   "metadata": {},
   "outputs": [],
   "source": [
    "#Models\n",
    "modelSVR = SVR()\n",
    "modelRF = RandomForestRegressor()\n",
    "modelLR = LinearRegression()"
   ]
  },
  {
   "cell_type": "code",
   "execution_count": 29,
   "metadata": {},
   "outputs": [],
   "source": [
    "features = rawData.iloc[:,12:23]"
   ]
  },
  {
   "cell_type": "code",
   "execution_count": 30,
   "metadata": {},
   "outputs": [
    {
     "name": "stdout",
     "output_type": "stream",
     "text": [
      "Summary of feature sample\n"
     ]
    }
   ],
   "source": [
    "print('Summary of feature sample')"
   ]
  },
  {
   "cell_type": "code",
   "execution_count": 31,
   "metadata": {},
   "outputs": [
    {
     "data": {
      "text/html": [
       "<div>\n",
       "<style scoped>\n",
       "    .dataframe tbody tr th:only-of-type {\n",
       "        vertical-align: middle;\n",
       "    }\n",
       "\n",
       "    .dataframe tbody tr th {\n",
       "        vertical-align: top;\n",
       "    }\n",
       "\n",
       "    .dataframe thead th {\n",
       "        text-align: right;\n",
       "    }\n",
       "</style>\n",
       "<table border=\"1\" class=\"dataframe\">\n",
       "  <thead>\n",
       "    <tr style=\"text-align: right;\">\n",
       "      <th></th>\n",
       "      <th>BILL_AMT2</th>\n",
       "      <th>BILL_AMT3</th>\n",
       "      <th>BILL_AMT4</th>\n",
       "      <th>BILL_AMT5</th>\n",
       "      <th>BILL_AMT6</th>\n",
       "      <th>PAY_AMT1</th>\n",
       "      <th>PAY_AMT2</th>\n",
       "      <th>PAY_AMT3</th>\n",
       "      <th>PAY_AMT4</th>\n",
       "      <th>PAY_AMT5</th>\n",
       "      <th>PAY_AMT6</th>\n",
       "    </tr>\n",
       "  </thead>\n",
       "  <tbody>\n",
       "    <tr>\n",
       "      <td>0</td>\n",
       "      <td>3102</td>\n",
       "      <td>689</td>\n",
       "      <td>0</td>\n",
       "      <td>0</td>\n",
       "      <td>0</td>\n",
       "      <td>0</td>\n",
       "      <td>689</td>\n",
       "      <td>0</td>\n",
       "      <td>0</td>\n",
       "      <td>0</td>\n",
       "      <td>0</td>\n",
       "    </tr>\n",
       "    <tr>\n",
       "      <td>1</td>\n",
       "      <td>1725</td>\n",
       "      <td>2682</td>\n",
       "      <td>3272</td>\n",
       "      <td>3455</td>\n",
       "      <td>3261</td>\n",
       "      <td>0</td>\n",
       "      <td>1000</td>\n",
       "      <td>1000</td>\n",
       "      <td>1000</td>\n",
       "      <td>0</td>\n",
       "      <td>2000</td>\n",
       "    </tr>\n",
       "    <tr>\n",
       "      <td>2</td>\n",
       "      <td>14027</td>\n",
       "      <td>13559</td>\n",
       "      <td>14331</td>\n",
       "      <td>14948</td>\n",
       "      <td>15549</td>\n",
       "      <td>1518</td>\n",
       "      <td>1500</td>\n",
       "      <td>1000</td>\n",
       "      <td>1000</td>\n",
       "      <td>1000</td>\n",
       "      <td>5000</td>\n",
       "    </tr>\n",
       "    <tr>\n",
       "      <td>3</td>\n",
       "      <td>48233</td>\n",
       "      <td>49291</td>\n",
       "      <td>28314</td>\n",
       "      <td>28959</td>\n",
       "      <td>29547</td>\n",
       "      <td>2000</td>\n",
       "      <td>2019</td>\n",
       "      <td>1200</td>\n",
       "      <td>1100</td>\n",
       "      <td>1069</td>\n",
       "      <td>1000</td>\n",
       "    </tr>\n",
       "    <tr>\n",
       "      <td>4</td>\n",
       "      <td>5670</td>\n",
       "      <td>35835</td>\n",
       "      <td>20940</td>\n",
       "      <td>19146</td>\n",
       "      <td>19131</td>\n",
       "      <td>2000</td>\n",
       "      <td>36681</td>\n",
       "      <td>10000</td>\n",
       "      <td>9000</td>\n",
       "      <td>689</td>\n",
       "      <td>679</td>\n",
       "    </tr>\n",
       "  </tbody>\n",
       "</table>\n",
       "</div>"
      ],
      "text/plain": [
       "   BILL_AMT2  BILL_AMT3  BILL_AMT4  BILL_AMT5  BILL_AMT6  PAY_AMT1  PAY_AMT2  \\\n",
       "0       3102        689          0          0          0         0       689   \n",
       "1       1725       2682       3272       3455       3261         0      1000   \n",
       "2      14027      13559      14331      14948      15549      1518      1500   \n",
       "3      48233      49291      28314      28959      29547      2000      2019   \n",
       "4       5670      35835      20940      19146      19131      2000     36681   \n",
       "\n",
       "   PAY_AMT3  PAY_AMT4  PAY_AMT5  PAY_AMT6  \n",
       "0         0         0         0         0  \n",
       "1      1000      1000         0      2000  \n",
       "2      1000      1000      1000      5000  \n",
       "3      1200      1100      1069      1000  \n",
       "4     10000      9000       689       679  "
      ]
     },
     "execution_count": 31,
     "metadata": {},
     "output_type": "execute_result"
    }
   ],
   "source": [
    "features.head()"
   ]
  },
  {
   "cell_type": "code",
   "execution_count": 32,
   "metadata": {},
   "outputs": [
    {
     "name": "stdout",
     "output_type": "stream",
     "text": [
      "0            0\n",
      "1         2000\n",
      "2         5000\n",
      "3         1000\n",
      "4          679\n",
      "         ...  \n",
      "19995    24952\n",
      "19996        0\n",
      "19997      808\n",
      "19998     5450\n",
      "19999    20000\n",
      "Name: PAY_AMT6, Length: 20000, dtype: int64\n"
     ]
    }
   ],
   "source": [
    "print(depVar)"
   ]
  },
  {
   "cell_type": "code",
   "execution_count": 33,
   "metadata": {},
   "outputs": [
    {
     "name": "stderr",
     "output_type": "stream",
     "text": [
      "C:\\Users\\bosed\\AppData\\Local\\Continuum\\anaconda3\\lib\\site-packages\\sklearn\\ensemble\\forest.py:245: FutureWarning: The default value of n_estimators will change from 10 in version 0.20 to 100 in 0.22.\n",
      "  \"10 in version 0.20 to 100 in 0.22.\", FutureWarning)\n"
     ]
    },
    {
     "data": {
      "text/plain": [
       "RandomForestRegressor(bootstrap=True, criterion='mse', max_depth=None,\n",
       "                      max_features='auto', max_leaf_nodes=None,\n",
       "                      min_impurity_decrease=0.0, min_impurity_split=None,\n",
       "                      min_samples_leaf=1, min_samples_split=2,\n",
       "                      min_weight_fraction_leaf=0.0, n_estimators=10,\n",
       "                      n_jobs=None, oob_score=False, random_state=None,\n",
       "                      verbose=0, warm_start=False)"
      ]
     },
     "execution_count": 33,
     "metadata": {},
     "output_type": "execute_result"
    }
   ],
   "source": [
    "modelRF.fit(X_train,y_train)"
   ]
  },
  {
   "cell_type": "code",
   "execution_count": 34,
   "metadata": {},
   "outputs": [
    {
     "name": "stderr",
     "output_type": "stream",
     "text": [
      "C:\\Users\\bosed\\AppData\\Local\\Continuum\\anaconda3\\lib\\site-packages\\sklearn\\svm\\base.py:193: FutureWarning: The default value of gamma will change from 'auto' to 'scale' in version 0.22 to account better for unscaled features. Set gamma explicitly to 'auto' or 'scale' to avoid this warning.\n",
      "  \"avoid this warning.\", FutureWarning)\n"
     ]
    },
    {
     "data": {
      "text/plain": [
       "SVR(C=1.0, cache_size=200, coef0=0.0, degree=3, epsilon=0.1,\n",
       "    gamma='auto_deprecated', kernel='rbf', max_iter=-1, shrinking=True,\n",
       "    tol=0.001, verbose=False)"
      ]
     },
     "execution_count": 34,
     "metadata": {},
     "output_type": "execute_result"
    }
   ],
   "source": [
    "modelSVR.fit(X_train,y_train)"
   ]
  },
  {
   "cell_type": "code",
   "execution_count": 35,
   "metadata": {},
   "outputs": [
    {
     "data": {
      "text/plain": [
       "LinearRegression(copy_X=True, fit_intercept=True, n_jobs=None, normalize=False)"
      ]
     },
     "execution_count": 35,
     "metadata": {},
     "output_type": "execute_result"
    }
   ],
   "source": [
    "modelLR.fit(X_train,y_train)"
   ]
  },
  {
   "cell_type": "code",
   "execution_count": 36,
   "metadata": {},
   "outputs": [
    {
     "name": "stderr",
     "output_type": "stream",
     "text": [
      "C:\\Users\\bosed\\AppData\\Local\\Continuum\\anaconda3\\lib\\site-packages\\sklearn\\model_selection\\_split.py:1978: FutureWarning: The default value of cv will change from 3 to 5 in version 0.22. Specify it explicitly to silence this warning.\n",
      "  warnings.warn(CV_WARNING, FutureWarning)\n"
     ]
    },
    {
     "name": "stdout",
     "output_type": "stream",
     "text": [
      "[0.99399774 0.9583535  0.99927102]\n"
     ]
    }
   ],
   "source": [
    "print(cross_val_score(modelRF, X_train, y_train)) "
   ]
  },
  {
   "cell_type": "code",
   "execution_count": 37,
   "metadata": {},
   "outputs": [
    {
     "data": {
      "text/plain": [
       "0.9960633172022691"
      ]
     },
     "execution_count": 37,
     "metadata": {},
     "output_type": "execute_result"
    }
   ],
   "source": [
    "modelRF.score(X_train,y_train)"
   ]
  },
  {
   "cell_type": "code",
   "execution_count": 38,
   "metadata": {},
   "outputs": [
    {
     "name": "stderr",
     "output_type": "stream",
     "text": [
      "C:\\Users\\bosed\\AppData\\Local\\Continuum\\anaconda3\\lib\\site-packages\\sklearn\\svm\\base.py:193: FutureWarning: The default value of gamma will change from 'auto' to 'scale' in version 0.22 to account better for unscaled features. Set gamma explicitly to 'auto' or 'scale' to avoid this warning.\n",
      "  \"avoid this warning.\", FutureWarning)\n"
     ]
    },
    {
     "data": {
      "text/plain": [
       "SVR(C=1.0, cache_size=200, coef0=0.0, degree=3, epsilon=0.1,\n",
       "    gamma='auto_deprecated', kernel='rbf', max_iter=-1, shrinking=True,\n",
       "    tol=0.001, verbose=False)"
      ]
     },
     "execution_count": 38,
     "metadata": {},
     "output_type": "execute_result"
    }
   ],
   "source": [
    "modelSVR.fit (X_train,y_train)"
   ]
  },
  {
   "cell_type": "code",
   "execution_count": 39,
   "metadata": {},
   "outputs": [
    {
     "name": "stderr",
     "output_type": "stream",
     "text": [
      "C:\\Users\\bosed\\AppData\\Local\\Continuum\\anaconda3\\lib\\site-packages\\sklearn\\model_selection\\_split.py:1978: FutureWarning: The default value of cv will change from 3 to 5 in version 0.22. Specify it explicitly to silence this warning.\n",
      "  warnings.warn(CV_WARNING, FutureWarning)\n",
      "C:\\Users\\bosed\\AppData\\Local\\Continuum\\anaconda3\\lib\\site-packages\\sklearn\\svm\\base.py:193: FutureWarning: The default value of gamma will change from 'auto' to 'scale' in version 0.22 to account better for unscaled features. Set gamma explicitly to 'auto' or 'scale' to avoid this warning.\n",
      "  \"avoid this warning.\", FutureWarning)\n",
      "C:\\Users\\bosed\\AppData\\Local\\Continuum\\anaconda3\\lib\\site-packages\\sklearn\\svm\\base.py:193: FutureWarning: The default value of gamma will change from 'auto' to 'scale' in version 0.22 to account better for unscaled features. Set gamma explicitly to 'auto' or 'scale' to avoid this warning.\n",
      "  \"avoid this warning.\", FutureWarning)\n",
      "C:\\Users\\bosed\\AppData\\Local\\Continuum\\anaconda3\\lib\\site-packages\\sklearn\\svm\\base.py:193: FutureWarning: The default value of gamma will change from 'auto' to 'scale' in version 0.22 to account better for unscaled features. Set gamma explicitly to 'auto' or 'scale' to avoid this warning.\n",
      "  \"avoid this warning.\", FutureWarning)\n"
     ]
    },
    {
     "name": "stdout",
     "output_type": "stream",
     "text": [
      "[-0.04339587 -0.04000532 -0.04652193]\n"
     ]
    }
   ],
   "source": [
    "print(cross_val_score(modelSVR, X_train, y_train)) "
   ]
  },
  {
   "cell_type": "code",
   "execution_count": 40,
   "metadata": {},
   "outputs": [
    {
     "data": {
      "text/plain": [
       "-0.04239426072561247"
      ]
     },
     "execution_count": 40,
     "metadata": {},
     "output_type": "execute_result"
    }
   ],
   "source": [
    "modelSVR.score(X_train,y_train)"
   ]
  },
  {
   "cell_type": "code",
   "execution_count": 41,
   "metadata": {},
   "outputs": [
    {
     "data": {
      "text/plain": [
       "LinearRegression(copy_X=True, fit_intercept=True, n_jobs=None, normalize=False)"
      ]
     },
     "execution_count": 41,
     "metadata": {},
     "output_type": "execute_result"
    }
   ],
   "source": [
    "modelLR.fit(X_train,y_train)"
   ]
  },
  {
   "cell_type": "code",
   "execution_count": 42,
   "metadata": {},
   "outputs": [
    {
     "name": "stdout",
     "output_type": "stream",
     "text": [
      "[1. 1. 1.]\n"
     ]
    },
    {
     "name": "stderr",
     "output_type": "stream",
     "text": [
      "C:\\Users\\bosed\\AppData\\Local\\Continuum\\anaconda3\\lib\\site-packages\\sklearn\\model_selection\\_split.py:1978: FutureWarning: The default value of cv will change from 3 to 5 in version 0.22. Specify it explicitly to silence this warning.\n",
      "  warnings.warn(CV_WARNING, FutureWarning)\n"
     ]
    }
   ],
   "source": [
    "print(cross_val_score(modelLR, X_train, y_train)) "
   ]
  },
  {
   "cell_type": "code",
   "execution_count": 43,
   "metadata": {},
   "outputs": [
    {
     "data": {
      "text/plain": [
       "1.0"
      ]
     },
     "execution_count": 43,
     "metadata": {},
     "output_type": "execute_result"
    }
   ],
   "source": [
    "modelLR.score(X_train,y_train)"
   ]
  },
  {
   "cell_type": "code",
   "execution_count": 44,
   "metadata": {},
   "outputs": [],
   "source": [
    "predictions = modelRF.predict(X_test)"
   ]
  },
  {
   "cell_type": "code",
   "execution_count": 45,
   "metadata": {},
   "outputs": [],
   "source": [
    "predRsquared = r2_score(y_test,predictions)"
   ]
  },
  {
   "cell_type": "code",
   "execution_count": 46,
   "metadata": {},
   "outputs": [],
   "source": [
    "rmse = sqrt(mean_squared_error(y_test, predictions))"
   ]
  },
  {
   "cell_type": "code",
   "execution_count": 47,
   "metadata": {},
   "outputs": [
    {
     "name": "stdout",
     "output_type": "stream",
     "text": [
      "R Squared: 0.998\n"
     ]
    }
   ],
   "source": [
    "print('R Squared: %.3f' % predRsquared)"
   ]
  },
  {
   "cell_type": "code",
   "execution_count": 48,
   "metadata": {},
   "outputs": [
    {
     "name": "stdout",
     "output_type": "stream",
     "text": [
      "RMSE: 657.296\n"
     ]
    }
   ],
   "source": [
    "print('RMSE: %.3f' % rmse)"
   ]
  },
  {
   "cell_type": "code",
   "execution_count": 49,
   "metadata": {},
   "outputs": [
    {
     "data": {
      "text/plain": [
       "<matplotlib.collections.PathCollection at 0x20f7bfcf288>"
      ]
     },
     "execution_count": 49,
     "metadata": {},
     "output_type": "execute_result"
    },
    {
     "data": {
      "image/png": "[encoded data removed]",
      "text/plain": [
       "<Figure size 432x288 with 1 Axes>"
      ]
     },
     "metadata": {
      "needs_background": "light"
     },
     "output_type": "display_data"
    }
   ],
   "source": [
    "plt.scatter(y_test, predictions, alpha = 0.3)"
   ]
  },
  {
   "cell_type": "code",
   "execution_count": 50,
   "metadata": {},
   "outputs": [
    {
     "data": {
      "text/plain": [
       "Text(0.5, 0, 'Ground Truth')"
      ]
     },
     "execution_count": 50,
     "metadata": {},
     "output_type": "execute_result"
    },
    {
     "data": {
      "image/png": "[encoded data removed]",
      "text/plain": [
       "<Figure size 432x288 with 1 Axes>"
      ]
     },
     "metadata": {
      "needs_background": "light"
     },
     "output_type": "display_data"
    }
   ],
   "source": [
    "plt.xlabel('Ground Truth')"
   ]
  },
  {
   "cell_type": "code",
   "execution_count": 51,
   "metadata": {},
   "outputs": [
    {
     "data": {
      "text/plain": [
       "Text(0, 0.5, 'Predictions')"
      ]
     },
     "execution_count": 51,
     "metadata": {},
     "output_type": "execute_result"
    },
    {
     "data": {
      "image/png": "[encoded data removed]",
      "text/plain": [
       "<Figure size 432x288 with 1 Axes>"
      ]
     },
     "metadata": {
      "needs_background": "light"
     },
     "output_type": "display_data"
    }
   ],
   "source": [
    "plt.ylabel('Predictions')"
   ]
  },
  {
   "cell_type": "code",
   "execution_count": 52,
   "metadata": {},
   "outputs": [],
   "source": [
    "plt.show()"
   ]
  },
  {
   "cell_type": "code",
   "execution_count": 53,
   "metadata": {},
   "outputs": [
    {
     "name": "stdout",
     "output_type": "stream",
     "text": [
      "classification Problem, Age as a Dep Var\n"
     ]
    }
   ],
   "source": [
    "print ('classification Problem, Age as a Dep Var')"
   ]
  },
  {
   "cell_type": "code",
   "execution_count": 75,
   "metadata": {},
   "outputs": [],
   "source": [
    "depVar2 = rawData['AGE']"
   ]
  },
  {
   "cell_type": "code",
   "execution_count": 76,
   "metadata": {},
   "outputs": [],
   "source": [
    "features2 = rawData.iloc[:,1:23]"
   ]
  },
  {
   "cell_type": "code",
   "execution_count": 77,
   "metadata": {},
   "outputs": [
    {
     "data": {
      "text/html": [
       "<div>\n",
       "<style scoped>\n",
       "    .dataframe tbody tr th:only-of-type {\n",
       "        vertical-align: middle;\n",
       "    }\n",
       "\n",
       "    .dataframe tbody tr th {\n",
       "        vertical-align: top;\n",
       "    }\n",
       "\n",
       "    .dataframe thead th {\n",
       "        text-align: right;\n",
       "    }\n",
       "</style>\n",
       "<table border=\"1\" class=\"dataframe\">\n",
       "  <thead>\n",
       "    <tr style=\"text-align: right;\">\n",
       "      <th></th>\n",
       "      <th>SEX</th>\n",
       "      <th>EDUCATION</th>\n",
       "      <th>MARRIAGE</th>\n",
       "      <th>AGE</th>\n",
       "      <th>PAY_0</th>\n",
       "      <th>PAY_2</th>\n",
       "      <th>PAY_3</th>\n",
       "      <th>PAY_4</th>\n",
       "      <th>PAY_5</th>\n",
       "      <th>PAY_6</th>\n",
       "      <th>...</th>\n",
       "      <th>BILL_AMT3</th>\n",
       "      <th>BILL_AMT4</th>\n",
       "      <th>BILL_AMT5</th>\n",
       "      <th>BILL_AMT6</th>\n",
       "      <th>PAY_AMT1</th>\n",
       "      <th>PAY_AMT2</th>\n",
       "      <th>PAY_AMT3</th>\n",
       "      <th>PAY_AMT4</th>\n",
       "      <th>PAY_AMT5</th>\n",
       "      <th>PAY_AMT6</th>\n",
       "    </tr>\n",
       "  </thead>\n",
       "  <tbody>\n",
       "    <tr>\n",
       "      <td>SEX</td>\n",
       "      <td>1.000000</td>\n",
       "      <td>0.016921</td>\n",
       "      <td>-0.033133</td>\n",
       "      <td>-0.098017</td>\n",
       "      <td>-0.056156</td>\n",
       "      <td>-0.067737</td>\n",
       "      <td>-0.066753</td>\n",
       "      <td>-0.057550</td>\n",
       "      <td>-0.056291</td>\n",
       "      <td>-0.042272</td>\n",
       "      <td>...</td>\n",
       "      <td>-0.027495</td>\n",
       "      <td>-0.025220</td>\n",
       "      <td>-0.019603</td>\n",
       "      <td>-0.019442</td>\n",
       "      <td>0.000594</td>\n",
       "      <td>-0.011708</td>\n",
       "      <td>-0.012763</td>\n",
       "      <td>-0.001795</td>\n",
       "      <td>-0.005272</td>\n",
       "      <td>-0.000058</td>\n",
       "    </tr>\n",
       "    <tr>\n",
       "      <td>EDUCATION</td>\n",
       "      <td>0.016921</td>\n",
       "      <td>1.000000</td>\n",
       "      <td>-0.146059</td>\n",
       "      <td>0.171331</td>\n",
       "      <td>0.109041</td>\n",
       "      <td>0.128522</td>\n",
       "      <td>0.112458</td>\n",
       "      <td>0.108497</td>\n",
       "      <td>0.101877</td>\n",
       "      <td>0.083193</td>\n",
       "      <td>...</td>\n",
       "      <td>0.014464</td>\n",
       "      <td>0.001464</td>\n",
       "      <td>-0.004296</td>\n",
       "      <td>-0.004014</td>\n",
       "      <td>-0.034836</td>\n",
       "      <td>-0.033130</td>\n",
       "      <td>-0.035829</td>\n",
       "      <td>-0.036519</td>\n",
       "      <td>-0.030035</td>\n",
       "      <td>-0.033373</td>\n",
       "    </tr>\n",
       "    <tr>\n",
       "      <td>MARRIAGE</td>\n",
       "      <td>-0.033133</td>\n",
       "      <td>-0.146059</td>\n",
       "      <td>1.000000</td>\n",
       "      <td>-0.412378</td>\n",
       "      <td>0.015699</td>\n",
       "      <td>0.021222</td>\n",
       "      <td>0.028741</td>\n",
       "      <td>0.027086</td>\n",
       "      <td>0.035906</td>\n",
       "      <td>0.031745</td>\n",
       "      <td>...</td>\n",
       "      <td>-0.030597</td>\n",
       "      <td>-0.028220</td>\n",
       "      <td>-0.030127</td>\n",
       "      <td>-0.026355</td>\n",
       "      <td>-0.013734</td>\n",
       "      <td>-0.017662</td>\n",
       "      <td>-0.013353</td>\n",
       "      <td>-0.018997</td>\n",
       "      <td>-0.003528</td>\n",
       "      <td>-0.008254</td>\n",
       "    </tr>\n",
       "    <tr>\n",
       "      <td>AGE</td>\n",
       "      <td>-0.098017</td>\n",
       "      <td>0.171331</td>\n",
       "      <td>-0.412378</td>\n",
       "      <td>1.000000</td>\n",
       "      <td>-0.039253</td>\n",
       "      <td>-0.052860</td>\n",
       "      <td>-0.055680</td>\n",
       "      <td>-0.044196</td>\n",
       "      <td>-0.049678</td>\n",
       "      <td>-0.041433</td>\n",
       "      <td>...</td>\n",
       "      <td>0.050625</td>\n",
       "      <td>0.048279</td>\n",
       "      <td>0.047117</td>\n",
       "      <td>0.047191</td>\n",
       "      <td>0.023944</td>\n",
       "      <td>0.022901</td>\n",
       "      <td>0.034960</td>\n",
       "      <td>0.023709</td>\n",
       "      <td>0.027647</td>\n",
       "      <td>0.020914</td>\n",
       "    </tr>\n",
       "    <tr>\n",
       "      <td>PAY_0</td>\n",
       "      <td>-0.056156</td>\n",
       "      <td>0.109041</td>\n",
       "      <td>0.015699</td>\n",
       "      <td>-0.039253</td>\n",
       "      <td>1.000000</td>\n",
       "      <td>0.673396</td>\n",
       "      <td>0.576507</td>\n",
       "      <td>0.538147</td>\n",
       "      <td>0.505374</td>\n",
       "      <td>0.470655</td>\n",
       "      <td>...</td>\n",
       "      <td>0.176990</td>\n",
       "      <td>0.177065</td>\n",
       "      <td>0.181207</td>\n",
       "      <td>0.178143</td>\n",
       "      <td>-0.090755</td>\n",
       "      <td>-0.077181</td>\n",
       "      <td>-0.073475</td>\n",
       "      <td>-0.065857</td>\n",
       "      <td>-0.054812</td>\n",
       "      <td>-0.065083</td>\n",
       "    </tr>\n",
       "    <tr>\n",
       "      <td>PAY_2</td>\n",
       "      <td>-0.067737</td>\n",
       "      <td>0.128522</td>\n",
       "      <td>0.021222</td>\n",
       "      <td>-0.052860</td>\n",
       "      <td>0.673396</td>\n",
       "      <td>1.000000</td>\n",
       "      <td>0.770877</td>\n",
       "      <td>0.666042</td>\n",
       "      <td>0.624552</td>\n",
       "      <td>0.577192</td>\n",
       "      <td>...</td>\n",
       "      <td>0.226137</td>\n",
       "      <td>0.225624</td>\n",
       "      <td>0.227666</td>\n",
       "      <td>0.225200</td>\n",
       "      <td>-0.085676</td>\n",
       "      <td>-0.064798</td>\n",
       "      <td>-0.054942</td>\n",
       "      <td>-0.047351</td>\n",
       "      <td>-0.035776</td>\n",
       "      <td>-0.042575</td>\n",
       "    </tr>\n",
       "    <tr>\n",
       "      <td>PAY_3</td>\n",
       "      <td>-0.066753</td>\n",
       "      <td>0.112458</td>\n",
       "      <td>0.028741</td>\n",
       "      <td>-0.055680</td>\n",
       "      <td>0.576507</td>\n",
       "      <td>0.770877</td>\n",
       "      <td>1.000000</td>\n",
       "      <td>0.776827</td>\n",
       "      <td>0.686180</td>\n",
       "      <td>0.629024</td>\n",
       "      <td>...</td>\n",
       "      <td>0.229585</td>\n",
       "      <td>0.229721</td>\n",
       "      <td>0.229995</td>\n",
       "      <td>0.226666</td>\n",
       "      <td>0.001018</td>\n",
       "      <td>-0.068165</td>\n",
       "      <td>-0.052179</td>\n",
       "      <td>-0.047636</td>\n",
       "      <td>-0.036919</td>\n",
       "      <td>-0.042152</td>\n",
       "    </tr>\n",
       "    <tr>\n",
       "      <td>PAY_4</td>\n",
       "      <td>-0.057550</td>\n",
       "      <td>0.108497</td>\n",
       "      <td>0.027086</td>\n",
       "      <td>-0.044196</td>\n",
       "      <td>0.538147</td>\n",
       "      <td>0.666042</td>\n",
       "      <td>0.776827</td>\n",
       "      <td>1.000000</td>\n",
       "      <td>0.817024</td>\n",
       "      <td>0.709960</td>\n",
       "      <td>...</td>\n",
       "      <td>0.248223</td>\n",
       "      <td>0.249529</td>\n",
       "      <td>0.249232</td>\n",
       "      <td>0.244680</td>\n",
       "      <td>-0.009754</td>\n",
       "      <td>0.001366</td>\n",
       "      <td>-0.069793</td>\n",
       "      <td>-0.041959</td>\n",
       "      <td>-0.037404</td>\n",
       "      <td>-0.029769</td>\n",
       "    </tr>\n",
       "    <tr>\n",
       "      <td>PAY_5</td>\n",
       "      <td>-0.056291</td>\n",
       "      <td>0.101877</td>\n",
       "      <td>0.035906</td>\n",
       "      <td>-0.049678</td>\n",
       "      <td>0.505374</td>\n",
       "      <td>0.624552</td>\n",
       "      <td>0.686180</td>\n",
       "      <td>0.817024</td>\n",
       "      <td>1.000000</td>\n",
       "      <td>0.811450</td>\n",
       "      <td>...</td>\n",
       "      <td>0.248177</td>\n",
       "      <td>0.277892</td>\n",
       "      <td>0.277251</td>\n",
       "      <td>0.269628</td>\n",
       "      <td>-0.008333</td>\n",
       "      <td>-0.003755</td>\n",
       "      <td>0.012249</td>\n",
       "      <td>-0.058728</td>\n",
       "      <td>-0.036970</td>\n",
       "      <td>-0.028062</td>\n",
       "    </tr>\n",
       "    <tr>\n",
       "      <td>PAY_6</td>\n",
       "      <td>-0.042272</td>\n",
       "      <td>0.083193</td>\n",
       "      <td>0.031745</td>\n",
       "      <td>-0.041433</td>\n",
       "      <td>0.470655</td>\n",
       "      <td>0.577192</td>\n",
       "      <td>0.629024</td>\n",
       "      <td>0.709960</td>\n",
       "      <td>0.811450</td>\n",
       "      <td>1.000000</td>\n",
       "      <td>...</td>\n",
       "      <td>0.243447</td>\n",
       "      <td>0.269225</td>\n",
       "      <td>0.295400</td>\n",
       "      <td>0.289878</td>\n",
       "      <td>-0.004892</td>\n",
       "      <td>-0.009141</td>\n",
       "      <td>0.005062</td>\n",
       "      <td>0.021263</td>\n",
       "      <td>-0.049437</td>\n",
       "      <td>-0.029801</td>\n",
       "    </tr>\n",
       "    <tr>\n",
       "      <td>BILL_AMT1</td>\n",
       "      <td>-0.034877</td>\n",
       "      <td>0.024881</td>\n",
       "      <td>-0.028181</td>\n",
       "      <td>0.055398</td>\n",
       "      <td>0.185784</td>\n",
       "      <td>0.237295</td>\n",
       "      <td>0.209982</td>\n",
       "      <td>0.205757</td>\n",
       "      <td>0.210751</td>\n",
       "      <td>0.209408</td>\n",
       "      <td>...</td>\n",
       "      <td>0.889521</td>\n",
       "      <td>0.857688</td>\n",
       "      <td>0.829785</td>\n",
       "      <td>0.807368</td>\n",
       "      <td>0.151954</td>\n",
       "      <td>0.103811</td>\n",
       "      <td>0.162442</td>\n",
       "      <td>0.152779</td>\n",
       "      <td>0.187920</td>\n",
       "      <td>0.169162</td>\n",
       "    </tr>\n",
       "    <tr>\n",
       "      <td>BILL_AMT2</td>\n",
       "      <td>-0.031124</td>\n",
       "      <td>0.021032</td>\n",
       "      <td>-0.026973</td>\n",
       "      <td>0.052053</td>\n",
       "      <td>0.188481</td>\n",
       "      <td>0.237969</td>\n",
       "      <td>0.238355</td>\n",
       "      <td>0.228237</td>\n",
       "      <td>0.230435</td>\n",
       "      <td>0.228028</td>\n",
       "      <td>...</td>\n",
       "      <td>0.922914</td>\n",
       "      <td>0.889263</td>\n",
       "      <td>0.860080</td>\n",
       "      <td>0.834269</td>\n",
       "      <td>0.288372</td>\n",
       "      <td>0.093474</td>\n",
       "      <td>0.156951</td>\n",
       "      <td>0.140987</td>\n",
       "      <td>0.173427</td>\n",
       "      <td>0.166610</td>\n",
       "    </tr>\n",
       "    <tr>\n",
       "      <td>BILL_AMT3</td>\n",
       "      <td>-0.027495</td>\n",
       "      <td>0.014464</td>\n",
       "      <td>-0.030597</td>\n",
       "      <td>0.050625</td>\n",
       "      <td>0.176990</td>\n",
       "      <td>0.226137</td>\n",
       "      <td>0.229585</td>\n",
       "      <td>0.248223</td>\n",
       "      <td>0.248177</td>\n",
       "      <td>0.243447</td>\n",
       "      <td>...</td>\n",
       "      <td>1.000000</td>\n",
       "      <td>0.923644</td>\n",
       "      <td>0.885595</td>\n",
       "      <td>0.856637</td>\n",
       "      <td>0.245250</td>\n",
       "      <td>0.348085</td>\n",
       "      <td>0.137013</td>\n",
       "      <td>0.144915</td>\n",
       "      <td>0.194748</td>\n",
       "      <td>0.180894</td>\n",
       "    </tr>\n",
       "    <tr>\n",
       "      <td>BILL_AMT4</td>\n",
       "      <td>-0.025220</td>\n",
       "      <td>0.001464</td>\n",
       "      <td>-0.028220</td>\n",
       "      <td>0.048279</td>\n",
       "      <td>0.177065</td>\n",
       "      <td>0.225624</td>\n",
       "      <td>0.229721</td>\n",
       "      <td>0.249529</td>\n",
       "      <td>0.277892</td>\n",
       "      <td>0.269225</td>\n",
       "      <td>...</td>\n",
       "      <td>0.923644</td>\n",
       "      <td>1.000000</td>\n",
       "      <td>0.939192</td>\n",
       "      <td>0.900516</td>\n",
       "      <td>0.235691</td>\n",
       "      <td>0.225497</td>\n",
       "      <td>0.311072</td>\n",
       "      <td>0.123406</td>\n",
       "      <td>0.161051</td>\n",
       "      <td>0.175457</td>\n",
       "    </tr>\n",
       "    <tr>\n",
       "      <td>BILL_AMT5</td>\n",
       "      <td>-0.019603</td>\n",
       "      <td>-0.004296</td>\n",
       "      <td>-0.030127</td>\n",
       "      <td>0.047117</td>\n",
       "      <td>0.181207</td>\n",
       "      <td>0.227666</td>\n",
       "      <td>0.229995</td>\n",
       "      <td>0.249232</td>\n",
       "      <td>0.277251</td>\n",
       "      <td>0.295400</td>\n",
       "      <td>...</td>\n",
       "      <td>0.885595</td>\n",
       "      <td>0.939192</td>\n",
       "      <td>1.000000</td>\n",
       "      <td>0.946802</td>\n",
       "      <td>0.215272</td>\n",
       "      <td>0.186384</td>\n",
       "      <td>0.253177</td>\n",
       "      <td>0.292270</td>\n",
       "      <td>0.137999</td>\n",
       "      <td>0.158851</td>\n",
       "    </tr>\n",
       "    <tr>\n",
       "      <td>BILL_AMT6</td>\n",
       "      <td>-0.019442</td>\n",
       "      <td>-0.004014</td>\n",
       "      <td>-0.026355</td>\n",
       "      <td>0.047191</td>\n",
       "      <td>0.178143</td>\n",
       "      <td>0.225200</td>\n",
       "      <td>0.226666</td>\n",
       "      <td>0.244680</td>\n",
       "      <td>0.269628</td>\n",
       "      <td>0.289878</td>\n",
       "      <td>...</td>\n",
       "      <td>0.856637</td>\n",
       "      <td>0.900516</td>\n",
       "      <td>0.946802</td>\n",
       "      <td>1.000000</td>\n",
       "      <td>0.197996</td>\n",
       "      <td>0.178219</td>\n",
       "      <td>0.239054</td>\n",
       "      <td>0.244708</td>\n",
       "      <td>0.297382</td>\n",
       "      <td>0.101026</td>\n",
       "    </tr>\n",
       "    <tr>\n",
       "      <td>PAY_AMT1</td>\n",
       "      <td>0.000594</td>\n",
       "      <td>-0.034836</td>\n",
       "      <td>-0.013734</td>\n",
       "      <td>0.023944</td>\n",
       "      <td>-0.090755</td>\n",
       "      <td>-0.085676</td>\n",
       "      <td>0.001018</td>\n",
       "      <td>-0.009754</td>\n",
       "      <td>-0.008333</td>\n",
       "      <td>-0.004892</td>\n",
       "      <td>...</td>\n",
       "      <td>0.245250</td>\n",
       "      <td>0.235691</td>\n",
       "      <td>0.215272</td>\n",
       "      <td>0.197996</td>\n",
       "      <td>1.000000</td>\n",
       "      <td>0.174155</td>\n",
       "      <td>0.161613</td>\n",
       "      <td>0.145246</td>\n",
       "      <td>0.149085</td>\n",
       "      <td>0.211201</td>\n",
       "    </tr>\n",
       "    <tr>\n",
       "      <td>PAY_AMT2</td>\n",
       "      <td>-0.011708</td>\n",
       "      <td>-0.033130</td>\n",
       "      <td>-0.017662</td>\n",
       "      <td>0.022901</td>\n",
       "      <td>-0.077181</td>\n",
       "      <td>-0.064798</td>\n",
       "      <td>-0.068165</td>\n",
       "      <td>0.001366</td>\n",
       "      <td>-0.003755</td>\n",
       "      <td>-0.009141</td>\n",
       "      <td>...</td>\n",
       "      <td>0.348085</td>\n",
       "      <td>0.225497</td>\n",
       "      <td>0.186384</td>\n",
       "      <td>0.178219</td>\n",
       "      <td>0.174155</td>\n",
       "      <td>1.000000</td>\n",
       "      <td>0.165991</td>\n",
       "      <td>0.134908</td>\n",
       "      <td>0.214103</td>\n",
       "      <td>0.174971</td>\n",
       "    </tr>\n",
       "    <tr>\n",
       "      <td>PAY_AMT3</td>\n",
       "      <td>-0.012763</td>\n",
       "      <td>-0.035829</td>\n",
       "      <td>-0.013353</td>\n",
       "      <td>0.034960</td>\n",
       "      <td>-0.073475</td>\n",
       "      <td>-0.054942</td>\n",
       "      <td>-0.052179</td>\n",
       "      <td>-0.069793</td>\n",
       "      <td>0.012249</td>\n",
       "      <td>0.005062</td>\n",
       "      <td>...</td>\n",
       "      <td>0.137013</td>\n",
       "      <td>0.311072</td>\n",
       "      <td>0.253177</td>\n",
       "      <td>0.239054</td>\n",
       "      <td>0.161613</td>\n",
       "      <td>0.165991</td>\n",
       "      <td>1.000000</td>\n",
       "      <td>0.143996</td>\n",
       "      <td>0.153390</td>\n",
       "      <td>0.137658</td>\n",
       "    </tr>\n",
       "    <tr>\n",
       "      <td>PAY_AMT4</td>\n",
       "      <td>-0.001795</td>\n",
       "      <td>-0.036519</td>\n",
       "      <td>-0.018997</td>\n",
       "      <td>0.023709</td>\n",
       "      <td>-0.065857</td>\n",
       "      <td>-0.047351</td>\n",
       "      <td>-0.047636</td>\n",
       "      <td>-0.041959</td>\n",
       "      <td>-0.058728</td>\n",
       "      <td>0.021263</td>\n",
       "      <td>...</td>\n",
       "      <td>0.144915</td>\n",
       "      <td>0.123406</td>\n",
       "      <td>0.292270</td>\n",
       "      <td>0.244708</td>\n",
       "      <td>0.145246</td>\n",
       "      <td>0.134908</td>\n",
       "      <td>0.143996</td>\n",
       "      <td>1.000000</td>\n",
       "      <td>0.142853</td>\n",
       "      <td>0.152064</td>\n",
       "    </tr>\n",
       "    <tr>\n",
       "      <td>PAY_AMT5</td>\n",
       "      <td>-0.005272</td>\n",
       "      <td>-0.030035</td>\n",
       "      <td>-0.003528</td>\n",
       "      <td>0.027647</td>\n",
       "      <td>-0.054812</td>\n",
       "      <td>-0.035776</td>\n",
       "      <td>-0.036919</td>\n",
       "      <td>-0.037404</td>\n",
       "      <td>-0.036970</td>\n",
       "      <td>-0.049437</td>\n",
       "      <td>...</td>\n",
       "      <td>0.194748</td>\n",
       "      <td>0.161051</td>\n",
       "      <td>0.137999</td>\n",
       "      <td>0.297382</td>\n",
       "      <td>0.149085</td>\n",
       "      <td>0.214103</td>\n",
       "      <td>0.153390</td>\n",
       "      <td>0.142853</td>\n",
       "      <td>1.000000</td>\n",
       "      <td>0.160896</td>\n",
       "    </tr>\n",
       "    <tr>\n",
       "      <td>PAY_AMT6</td>\n",
       "      <td>-0.000058</td>\n",
       "      <td>-0.033373</td>\n",
       "      <td>-0.008254</td>\n",
       "      <td>0.020914</td>\n",
       "      <td>-0.065083</td>\n",
       "      <td>-0.042575</td>\n",
       "      <td>-0.042152</td>\n",
       "      <td>-0.029769</td>\n",
       "      <td>-0.028062</td>\n",
       "      <td>-0.029801</td>\n",
       "      <td>...</td>\n",
       "      <td>0.180894</td>\n",
       "      <td>0.175457</td>\n",
       "      <td>0.158851</td>\n",
       "      <td>0.101026</td>\n",
       "      <td>0.211201</td>\n",
       "      <td>0.174971</td>\n",
       "      <td>0.137658</td>\n",
       "      <td>0.152064</td>\n",
       "      <td>0.160896</td>\n",
       "      <td>1.000000</td>\n",
       "    </tr>\n",
       "  </tbody>\n",
       "</table>\n",
       "<p>22 rows × 22 columns</p>\n",
       "</div>"
      ],
      "text/plain": [
       "                SEX  EDUCATION  MARRIAGE       AGE     PAY_0     PAY_2  \\\n",
       "SEX        1.000000   0.016921 -0.033133 -0.098017 -0.056156 -0.067737   \n",
       "EDUCATION  0.016921   1.000000 -0.146059  0.171331  0.109041  0.128522   \n",
       "MARRIAGE  -0.033133  -0.146059  1.000000 -0.412378  0.015699  0.021222   \n",
       "AGE       -0.098017   0.171331 -0.412378  1.000000 -0.039253 -0.052860   \n",
       "PAY_0     -0.056156   0.109041  0.015699 -0.039253  1.000000  0.673396   \n",
       "PAY_2     -0.067737   0.128522  0.021222 -0.052860  0.673396  1.000000   \n",
       "PAY_3     -0.066753   0.112458  0.028741 -0.055680  0.576507  0.770877   \n",
       "PAY_4     -0.057550   0.108497  0.027086 -0.044196  0.538147  0.666042   \n",
       "PAY_5     -0.056291   0.101877  0.035906 -0.049678  0.505374  0.624552   \n",
       "PAY_6     -0.042272   0.083193  0.031745 -0.041433  0.470655  0.577192   \n",
       "BILL_AMT1 -0.034877   0.024881 -0.028181  0.055398  0.185784  0.237295   \n",
       "BILL_AMT2 -0.031124   0.021032 -0.026973  0.052053  0.188481  0.237969   \n",
       "BILL_AMT3 -0.027495   0.014464 -0.030597  0.050625  0.176990  0.226137   \n",
       "BILL_AMT4 -0.025220   0.001464 -0.028220  0.048279  0.177065  0.225624   \n",
       "BILL_AMT5 -0.019603  -0.004296 -0.030127  0.047117  0.181207  0.227666   \n",
       "BILL_AMT6 -0.019442  -0.004014 -0.026355  0.047191  0.178143  0.225200   \n",
       "PAY_AMT1   0.000594  -0.034836 -0.013734  0.023944 -0.090755 -0.085676   \n",
       "PAY_AMT2  -0.011708  -0.033130 -0.017662  0.022901 -0.077181 -0.064798   \n",
       "PAY_AMT3  -0.012763  -0.035829 -0.013353  0.034960 -0.073475 -0.054942   \n",
       "PAY_AMT4  -0.001795  -0.036519 -0.018997  0.023709 -0.065857 -0.047351   \n",
       "PAY_AMT5  -0.005272  -0.030035 -0.003528  0.027647 -0.054812 -0.035776   \n",
       "PAY_AMT6  -0.000058  -0.033373 -0.008254  0.020914 -0.065083 -0.042575   \n",
       "\n",
       "              PAY_3     PAY_4     PAY_5     PAY_6  ...  BILL_AMT3  BILL_AMT4  \\\n",
       "SEX       -0.066753 -0.057550 -0.056291 -0.042272  ...  -0.027495  -0.025220   \n",
       "EDUCATION  0.112458  0.108497  0.101877  0.083193  ...   0.014464   0.001464   \n",
       "MARRIAGE   0.028741  0.027086  0.035906  0.031745  ...  -0.030597  -0.028220   \n",
       "AGE       -0.055680 -0.044196 -0.049678 -0.041433  ...   0.050625   0.048279   \n",
       "PAY_0      0.576507  0.538147  0.505374  0.470655  ...   0.176990   0.177065   \n",
       "PAY_2      0.770877  0.666042  0.624552  0.577192  ...   0.226137   0.225624   \n",
       "PAY_3      1.000000  0.776827  0.686180  0.629024  ...   0.229585   0.229721   \n",
       "PAY_4      0.776827  1.000000  0.817024  0.709960  ...   0.248223   0.249529   \n",
       "PAY_5      0.686180  0.817024  1.000000  0.811450  ...   0.248177   0.277892   \n",
       "PAY_6      0.629024  0.709960  0.811450  1.000000  ...   0.243447   0.269225   \n",
       "BILL_AMT1  0.209982  0.205757  0.210751  0.209408  ...   0.889521   0.857688   \n",
       "BILL_AMT2  0.238355  0.228237  0.230435  0.228028  ...   0.922914   0.889263   \n",
       "BILL_AMT3  0.229585  0.248223  0.248177  0.243447  ...   1.000000   0.923644   \n",
       "BILL_AMT4  0.229721  0.249529  0.277892  0.269225  ...   0.923644   1.000000   \n",
       "BILL_AMT5  0.229995  0.249232  0.277251  0.295400  ...   0.885595   0.939192   \n",
       "BILL_AMT6  0.226666  0.244680  0.269628  0.289878  ...   0.856637   0.900516   \n",
       "PAY_AMT1   0.001018 -0.009754 -0.008333 -0.004892  ...   0.245250   0.235691   \n",
       "PAY_AMT2  -0.068165  0.001366 -0.003755 -0.009141  ...   0.348085   0.225497   \n",
       "PAY_AMT3  -0.052179 -0.069793  0.012249  0.005062  ...   0.137013   0.311072   \n",
       "PAY_AMT4  -0.047636 -0.041959 -0.058728  0.021263  ...   0.144915   0.123406   \n",
       "PAY_AMT5  -0.036919 -0.037404 -0.036970 -0.049437  ...   0.194748   0.161051   \n",
       "PAY_AMT6  -0.042152 -0.029769 -0.028062 -0.029801  ...   0.180894   0.175457   \n",
       "\n",
       "           BILL_AMT5  BILL_AMT6  PAY_AMT1  PAY_AMT2  PAY_AMT3  PAY_AMT4  \\\n",
       "SEX        -0.019603  -0.019442  0.000594 -0.011708 -0.012763 -0.001795   \n",
       "EDUCATION  -0.004296  -0.004014 -0.034836 -0.033130 -0.035829 -0.036519   \n",
       "MARRIAGE   -0.030127  -0.026355 -0.013734 -0.017662 -0.013353 -0.018997   \n",
       "AGE         0.047117   0.047191  0.023944  0.022901  0.034960  0.023709   \n",
       "PAY_0       0.181207   0.178143 -0.090755 -0.077181 -0.073475 -0.065857   \n",
       "PAY_2       0.227666   0.225200 -0.085676 -0.064798 -0.054942 -0.047351   \n",
       "PAY_3       0.229995   0.226666  0.001018 -0.068165 -0.052179 -0.047636   \n",
       "PAY_4       0.249232   0.244680 -0.009754  0.001366 -0.069793 -0.041959   \n",
       "PAY_5       0.277251   0.269628 -0.008333 -0.003755  0.012249 -0.058728   \n",
       "PAY_6       0.295400   0.289878 -0.004892 -0.009141  0.005062  0.021263   \n",
       "BILL_AMT1   0.829785   0.807368  0.151954  0.103811  0.162442  0.152779   \n",
       "BILL_AMT2   0.860080   0.834269  0.288372  0.093474  0.156951  0.140987   \n",
       "BILL_AMT3   0.885595   0.856637  0.245250  0.348085  0.137013  0.144915   \n",
       "BILL_AMT4   0.939192   0.900516  0.235691  0.225497  0.311072  0.123406   \n",
       "BILL_AMT5   1.000000   0.946802  0.215272  0.186384  0.253177  0.292270   \n",
       "BILL_AMT6   0.946802   1.000000  0.197996  0.178219  0.239054  0.244708   \n",
       "PAY_AMT1    0.215272   0.197996  1.000000  0.174155  0.161613  0.145246   \n",
       "PAY_AMT2    0.186384   0.178219  0.174155  1.000000  0.165991  0.134908   \n",
       "PAY_AMT3    0.253177   0.239054  0.161613  0.165991  1.000000  0.143996   \n",
       "PAY_AMT4    0.292270   0.244708  0.145246  0.134908  0.143996  1.000000   \n",
       "PAY_AMT5    0.137999   0.297382  0.149085  0.214103  0.153390  0.142853   \n",
       "PAY_AMT6    0.158851   0.101026  0.211201  0.174971  0.137658  0.152064   \n",
       "\n",
       "           PAY_AMT5  PAY_AMT6  \n",
       "SEX       -0.005272 -0.000058  \n",
       "EDUCATION -0.030035 -0.033373  \n",
       "MARRIAGE  -0.003528 -0.008254  \n",
       "AGE        0.027647  0.020914  \n",
       "PAY_0     -0.054812 -0.065083  \n",
       "PAY_2     -0.035776 -0.042575  \n",
       "PAY_3     -0.036919 -0.042152  \n",
       "PAY_4     -0.037404 -0.029769  \n",
       "PAY_5     -0.036970 -0.028062  \n",
       "PAY_6     -0.049437 -0.029801  \n",
       "BILL_AMT1  0.187920  0.169162  \n",
       "BILL_AMT2  0.173427  0.166610  \n",
       "BILL_AMT3  0.194748  0.180894  \n",
       "BILL_AMT4  0.161051  0.175457  \n",
       "BILL_AMT5  0.137999  0.158851  \n",
       "BILL_AMT6  0.297382  0.101026  \n",
       "PAY_AMT1   0.149085  0.211201  \n",
       "PAY_AMT2   0.214103  0.174971  \n",
       "PAY_AMT3   0.153390  0.137658  \n",
       "PAY_AMT4   0.142853  0.152064  \n",
       "PAY_AMT5   1.000000  0.160896  \n",
       "PAY_AMT6   0.160896  1.000000  \n",
       "\n",
       "[22 rows x 22 columns]"
      ]
     },
     "execution_count": 77,
     "metadata": {},
     "output_type": "execute_result"
    }
   ],
   "source": [
    "features2.corr()"
   ]
  },
  {
   "cell_type": "code",
   "execution_count": 78,
   "metadata": {},
   "outputs": [],
   "source": [
    "drop_list = ['PAY_0', 'PAY_2', 'PAY_3', 'PAY_4','PAY_5','PAY_6']"
   ]
  },
  {
   "cell_type": "code",
   "execution_count": 79,
   "metadata": {},
   "outputs": [],
   "source": [
    "features2 = features2.drop (drop_list, axis=1)"
   ]
  },
  {
   "cell_type": "code",
   "execution_count": 80,
   "metadata": {},
   "outputs": [],
   "source": [
    "X_train2 = (features2[: 14000])"
   ]
  },
  {
   "cell_type": "code",
   "execution_count": 81,
   "metadata": {},
   "outputs": [
    {
     "data": {
      "text/html": [
       "<div>\n",
       "<style scoped>\n",
       "    .dataframe tbody tr th:only-of-type {\n",
       "        vertical-align: middle;\n",
       "    }\n",
       "\n",
       "    .dataframe tbody tr th {\n",
       "        vertical-align: top;\n",
       "    }\n",
       "\n",
       "    .dataframe thead th {\n",
       "        text-align: right;\n",
       "    }\n",
       "</style>\n",
       "<table border=\"1\" class=\"dataframe\">\n",
       "  <thead>\n",
       "    <tr style=\"text-align: right;\">\n",
       "      <th></th>\n",
       "      <th>SEX</th>\n",
       "      <th>EDUCATION</th>\n",
       "      <th>MARRIAGE</th>\n",
       "      <th>AGE</th>\n",
       "      <th>BILL_AMT1</th>\n",
       "      <th>BILL_AMT2</th>\n",
       "      <th>BILL_AMT3</th>\n",
       "      <th>BILL_AMT4</th>\n",
       "      <th>BILL_AMT5</th>\n",
       "      <th>BILL_AMT6</th>\n",
       "      <th>PAY_AMT1</th>\n",
       "      <th>PAY_AMT2</th>\n",
       "      <th>PAY_AMT3</th>\n",
       "      <th>PAY_AMT4</th>\n",
       "      <th>PAY_AMT5</th>\n",
       "      <th>PAY_AMT6</th>\n",
       "    </tr>\n",
       "  </thead>\n",
       "  <tbody>\n",
       "    <tr>\n",
       "      <td>0</td>\n",
       "      <td>2</td>\n",
       "      <td>2</td>\n",
       "      <td>1</td>\n",
       "      <td>24</td>\n",
       "      <td>3913</td>\n",
       "      <td>3102</td>\n",
       "      <td>689</td>\n",
       "      <td>0</td>\n",
       "      <td>0</td>\n",
       "      <td>0</td>\n",
       "      <td>0</td>\n",
       "      <td>689</td>\n",
       "      <td>0</td>\n",
       "      <td>0</td>\n",
       "      <td>0</td>\n",
       "      <td>0</td>\n",
       "    </tr>\n",
       "    <tr>\n",
       "      <td>1</td>\n",
       "      <td>2</td>\n",
       "      <td>2</td>\n",
       "      <td>2</td>\n",
       "      <td>26</td>\n",
       "      <td>2682</td>\n",
       "      <td>1725</td>\n",
       "      <td>2682</td>\n",
       "      <td>3272</td>\n",
       "      <td>3455</td>\n",
       "      <td>3261</td>\n",
       "      <td>0</td>\n",
       "      <td>1000</td>\n",
       "      <td>1000</td>\n",
       "      <td>1000</td>\n",
       "      <td>0</td>\n",
       "      <td>2000</td>\n",
       "    </tr>\n",
       "    <tr>\n",
       "      <td>2</td>\n",
       "      <td>2</td>\n",
       "      <td>2</td>\n",
       "      <td>2</td>\n",
       "      <td>34</td>\n",
       "      <td>29239</td>\n",
       "      <td>14027</td>\n",
       "      <td>13559</td>\n",
       "      <td>14331</td>\n",
       "      <td>14948</td>\n",
       "      <td>15549</td>\n",
       "      <td>1518</td>\n",
       "      <td>1500</td>\n",
       "      <td>1000</td>\n",
       "      <td>1000</td>\n",
       "      <td>1000</td>\n",
       "      <td>5000</td>\n",
       "    </tr>\n",
       "    <tr>\n",
       "      <td>3</td>\n",
       "      <td>2</td>\n",
       "      <td>2</td>\n",
       "      <td>1</td>\n",
       "      <td>37</td>\n",
       "      <td>46990</td>\n",
       "      <td>48233</td>\n",
       "      <td>49291</td>\n",
       "      <td>28314</td>\n",
       "      <td>28959</td>\n",
       "      <td>29547</td>\n",
       "      <td>2000</td>\n",
       "      <td>2019</td>\n",
       "      <td>1200</td>\n",
       "      <td>1100</td>\n",
       "      <td>1069</td>\n",
       "      <td>1000</td>\n",
       "    </tr>\n",
       "    <tr>\n",
       "      <td>4</td>\n",
       "      <td>1</td>\n",
       "      <td>2</td>\n",
       "      <td>1</td>\n",
       "      <td>57</td>\n",
       "      <td>8617</td>\n",
       "      <td>5670</td>\n",
       "      <td>35835</td>\n",
       "      <td>20940</td>\n",
       "      <td>19146</td>\n",
       "      <td>19131</td>\n",
       "      <td>2000</td>\n",
       "      <td>36681</td>\n",
       "      <td>10000</td>\n",
       "      <td>9000</td>\n",
       "      <td>689</td>\n",
       "      <td>679</td>\n",
       "    </tr>\n",
       "  </tbody>\n",
       "</table>\n",
       "</div>"
      ],
      "text/plain": [
       "   SEX  EDUCATION  MARRIAGE  AGE  BILL_AMT1  BILL_AMT2  BILL_AMT3  BILL_AMT4  \\\n",
       "0    2          2         1   24       3913       3102        689          0   \n",
       "1    2          2         2   26       2682       1725       2682       3272   \n",
       "2    2          2         2   34      29239      14027      13559      14331   \n",
       "3    2          2         1   37      46990      48233      49291      28314   \n",
       "4    1          2         1   57       8617       5670      35835      20940   \n",
       "\n",
       "   BILL_AMT5  BILL_AMT6  PAY_AMT1  PAY_AMT2  PAY_AMT3  PAY_AMT4  PAY_AMT5  \\\n",
       "0          0          0         0       689         0         0         0   \n",
       "1       3455       3261         0      1000      1000      1000         0   \n",
       "2      14948      15549      1518      1500      1000      1000      1000   \n",
       "3      28959      29547      2000      2019      1200      1100      1069   \n",
       "4      19146      19131      2000     36681     10000      9000       689   \n",
       "\n",
       "   PAY_AMT6  \n",
       "0         0  \n",
       "1      2000  \n",
       "2      5000  \n",
       "3      1000  \n",
       "4       679  "
      ]
     },
     "execution_count": 81,
     "metadata": {},
     "output_type": "execute_result"
    }
   ],
   "source": [
    "X_train2.head()"
   ]
  },
  {
   "cell_type": "code",
   "execution_count": 82,
   "metadata": {},
   "outputs": [],
   "source": [
    "y_train2 = depVar2[: 14000]"
   ]
  },
  {
   "cell_type": "code",
   "execution_count": 83,
   "metadata": {},
   "outputs": [
    {
     "data": {
      "text/plain": [
       "0    24\n",
       "1    26\n",
       "2    34\n",
       "3    37\n",
       "4    57\n",
       "Name: AGE, dtype: int64"
      ]
     },
     "execution_count": 83,
     "metadata": {},
     "output_type": "execute_result"
    }
   ],
   "source": [
    "y_train2.head()"
   ]
  },
  {
   "cell_type": "code",
   "execution_count": 84,
   "metadata": {},
   "outputs": [],
   "source": [
    "#Testing Set (X Testing)\n",
    "X_test2 = features2[-6000:]"
   ]
  },
  {
   "cell_type": "code",
   "execution_count": 85,
   "metadata": {},
   "outputs": [],
   "source": [
    "X_test2_count = len(X_test2.index)"
   ]
  },
  {
   "cell_type": "code",
   "execution_count": 86,
   "metadata": {},
   "outputs": [
    {
     "name": "stdout",
     "output_type": "stream",
     "text": [
      "The number of observations in the Y training set are: 6000\n"
     ]
    }
   ],
   "source": [
    "print('The number of observations in the Y training set are:',str(X_test2_count))"
   ]
  },
  {
   "cell_type": "code",
   "execution_count": 87,
   "metadata": {},
   "outputs": [
    {
     "name": "stdout",
     "output_type": "stream",
     "text": [
      "       SEX  EDUCATION  MARRIAGE  AGE  BILL_AMT1  BILL_AMT2  BILL_AMT3  \\\n",
      "14000    2          2         1   26      15803      15252      18093   \n",
      "14001    2          3         1   37      77480      75329      64228   \n",
      "14002    2          2         1   42      30640      31546      28405   \n",
      "14003    2          3         1   35      50834      52163      51060   \n",
      "14004    2          2         1   38      26664      29803      30766   \n",
      "\n",
      "       BILL_AMT4  BILL_AMT5  BILL_AMT6  PAY_AMT1  PAY_AMT2  PAY_AMT3  \\\n",
      "14000      18499      20898      19999         0      3103      1000   \n",
      "14001      49103      48649      49701      3000      2500      1800   \n",
      "14002      27959      27785      28123      1746      1800      1729   \n",
      "14003      54200      52734      55903      2460         0      4600   \n",
      "14004      29918      29071      29527      3582      1734         0   \n",
      "\n",
      "       PAY_AMT4  PAY_AMT5  PAY_AMT6  \n",
      "14000      3000         0         0  \n",
      "14001      2000      1800      2000  \n",
      "14002       945      1149      1200  \n",
      "14003         0      4200      2200  \n",
      "14004      1148      1034      2667  \n"
     ]
    }
   ],
   "source": [
    "print(X_test2.head())"
   ]
  },
  {
   "cell_type": "code",
   "execution_count": 88,
   "metadata": {},
   "outputs": [],
   "source": [
    "#Ground Truth (y_test) \n",
    "y_test2 = depVar2[-6000:]"
   ]
  },
  {
   "cell_type": "code",
   "execution_count": 89,
   "metadata": {},
   "outputs": [],
   "source": [
    "y_test2_count = len(y_test2.index)"
   ]
  },
  {
   "cell_type": "code",
   "execution_count": 90,
   "metadata": {},
   "outputs": [
    {
     "name": "stdout",
     "output_type": "stream",
     "text": [
      "The number of observations in the Y training set are: 6000\n"
     ]
    }
   ],
   "source": [
    "print('The number of observations in the Y training set are:',str(y_test2_count))"
   ]
  },
  {
   "cell_type": "code",
   "execution_count": 91,
   "metadata": {},
   "outputs": [
    {
     "data": {
      "text/plain": [
       "14000    26\n",
       "14001    37\n",
       "14002    42\n",
       "14003    35\n",
       "14004    38\n",
       "Name: AGE, dtype: int64"
      ]
     },
     "execution_count": 91,
     "metadata": {},
     "output_type": "execute_result"
    }
   ],
   "source": [
    "y_test2.head()"
   ]
  },
  {
   "cell_type": "code",
   "execution_count": 92,
   "metadata": {},
   "outputs": [],
   "source": [
    "X_train2, X_test2, y_train2, y_test2 = train_test_split(X_train2, y_train2)"
   ]
  },
  {
   "cell_type": "code",
   "execution_count": 93,
   "metadata": {},
   "outputs": [
    {
     "data": {
      "text/plain": [
       "((10500, 16), (3500, 16))"
      ]
     },
     "execution_count": 93,
     "metadata": {},
     "output_type": "execute_result"
    }
   ],
   "source": [
    "X_train2.shape, X_test2.shape"
   ]
  },
  {
   "cell_type": "code",
   "execution_count": 94,
   "metadata": {},
   "outputs": [],
   "source": [
    "#Models\n",
    "modelSVM = svm.SVC(gamma='scale')\n",
    "modelGB = GradientBoostingClassifier(n_estimators=1000, learning_rate=1.0, max_depth=3, random_state=1)\n",
    "modelTree = tree.DecisionTreeClassifier()\n",
    "modelKnn = KNeighborsClassifier(n_neighbors=3)\n",
    "modelNCA = NeighborhoodComponentsAnalysis(random_state=1)"
   ]
  },
  {
   "cell_type": "code",
   "execution_count": 98,
   "metadata": {},
   "outputs": [
    {
     "data": {
      "text/plain": [
       "SVC(C=1.0, cache_size=200, class_weight=None, coef0=0.0,\n",
       "    decision_function_shape='ovr', degree=3, gamma='scale', kernel='rbf',\n",
       "    max_iter=-1, probability=False, random_state=None, shrinking=True,\n",
       "    tol=0.001, verbose=False)"
      ]
     },
     "execution_count": 98,
     "metadata": {},
     "output_type": "execute_result"
    }
   ],
   "source": [
    "modelSVM.fit(X_train2,y_train2)"
   ]
  },
  {
   "cell_type": "code",
   "execution_count": 99,
   "metadata": {},
   "outputs": [
    {
     "data": {
      "text/plain": [
       "GradientBoostingClassifier(criterion='friedman_mse', init=None,\n",
       "                           learning_rate=1.0, loss='deviance', max_depth=3,\n",
       "                           max_features=None, max_leaf_nodes=None,\n",
       "                           min_impurity_decrease=0.0, min_impurity_split=None,\n",
       "                           min_samples_leaf=1, min_samples_split=2,\n",
       "                           min_weight_fraction_leaf=0.0, n_estimators=1000,\n",
       "                           n_iter_no_change=None, presort='auto',\n",
       "                           random_state=1, subsample=1.0, tol=0.0001,\n",
       "                           validation_fraction=0.1, verbose=0,\n",
       "                           warm_start=False)"
      ]
     },
     "execution_count": 99,
     "metadata": {},
     "output_type": "execute_result"
    }
   ],
   "source": [
    "modelGB.fit(X_train2,y_train2)"
   ]
  },
  {
   "cell_type": "code",
   "execution_count": 100,
   "metadata": {},
   "outputs": [
    {
     "data": {
      "text/plain": [
       "DecisionTreeClassifier(class_weight=None, criterion='gini', max_depth=None,\n",
       "                       max_features=None, max_leaf_nodes=None,\n",
       "                       min_impurity_decrease=0.0, min_impurity_split=None,\n",
       "                       min_samples_leaf=1, min_samples_split=2,\n",
       "                       min_weight_fraction_leaf=0.0, presort=False,\n",
       "                       random_state=None, splitter='best')"
      ]
     },
     "execution_count": 100,
     "metadata": {},
     "output_type": "execute_result"
    }
   ],
   "source": [
    "modelTree.fit(X_train2,y_train2)"
   ]
  },
  {
   "cell_type": "code",
   "execution_count": 101,
   "metadata": {},
   "outputs": [
    {
     "name": "stderr",
     "output_type": "stream",
     "text": [
      "C:\\Users\\bosed\\AppData\\Local\\Continuum\\anaconda3\\lib\\site-packages\\sklearn\\model_selection\\_split.py:1978: FutureWarning: The default value of cv will change from 3 to 5 in version 0.22. Specify it explicitly to silence this warning.\n",
      "  warnings.warn(CV_WARNING, FutureWarning)\n",
      "C:\\Users\\bosed\\AppData\\Local\\Continuum\\anaconda3\\lib\\site-packages\\sklearn\\model_selection\\_split.py:657: Warning: The least populated class in y has only 1 members, which is too few. The minimum number of members in any class cannot be less than n_splits=3.\n",
      "  % (min_groups, self.n_splits)), Warning)\n"
     ]
    },
    {
     "name": "stdout",
     "output_type": "stream",
     "text": [
      "[0.05454545 0.06258931 0.0634875 ]\n"
     ]
    }
   ],
   "source": [
    "print(cross_val_score(modelSVM, X_train2, y_train2)) "
   ]
  },
  {
   "cell_type": "code",
   "execution_count": 102,
   "metadata": {
    "scrolled": true
   },
   "outputs": [
    {
     "name": "stderr",
     "output_type": "stream",
     "text": [
      "C:\\Users\\bosed\\AppData\\Local\\Continuum\\anaconda3\\lib\\site-packages\\sklearn\\model_selection\\_split.py:1978: FutureWarning: The default value of cv will change from 3 to 5 in version 0.22. Specify it explicitly to silence this warning.\n",
      "  warnings.warn(CV_WARNING, FutureWarning)\n",
      "C:\\Users\\bosed\\AppData\\Local\\Continuum\\anaconda3\\lib\\site-packages\\sklearn\\model_selection\\_split.py:657: Warning: The least populated class in y has only 1 members, which is too few. The minimum number of members in any class cannot be less than n_splits=3.\n",
      "  % (min_groups, self.n_splits)), Warning)\n"
     ]
    },
    {
     "name": "stdout",
     "output_type": "stream",
     "text": [
      "[0.99886364 0.9997142  0.99971273]\n"
     ]
    }
   ],
   "source": [
    "print(cross_val_score(modelGB, X_train2, y_train2)) "
   ]
  },
  {
   "cell_type": "code",
   "execution_count": 103,
   "metadata": {},
   "outputs": [
    {
     "name": "stderr",
     "output_type": "stream",
     "text": [
      "C:\\Users\\bosed\\AppData\\Local\\Continuum\\anaconda3\\lib\\site-packages\\sklearn\\model_selection\\_split.py:1978: FutureWarning: The default value of cv will change from 3 to 5 in version 0.22. Specify it explicitly to silence this warning.\n",
      "  warnings.warn(CV_WARNING, FutureWarning)\n",
      "C:\\Users\\bosed\\AppData\\Local\\Continuum\\anaconda3\\lib\\site-packages\\sklearn\\model_selection\\_split.py:657: Warning: The least populated class in y has only 1 members, which is too few. The minimum number of members in any class cannot be less than n_splits=3.\n",
      "  % (min_groups, self.n_splits)), Warning)\n"
     ]
    },
    {
     "name": "stdout",
     "output_type": "stream",
     "text": [
      "[0.99857955 0.99914261 0.99971273]\n"
     ]
    }
   ],
   "source": [
    "print(cross_val_score(modelTree, X_train2, y_train2)) "
   ]
  },
  {
   "cell_type": "code",
   "execution_count": 104,
   "metadata": {},
   "outputs": [
    {
     "data": {
      "text/plain": [
       "KNeighborsClassifier(algorithm='auto', leaf_size=30, metric='minkowski',\n",
       "                     metric_params=None, n_jobs=None, n_neighbors=3, p=2,\n",
       "                     weights='uniform')"
      ]
     },
     "execution_count": 104,
     "metadata": {},
     "output_type": "execute_result"
    }
   ],
   "source": [
    "modelKnn.fit(X_train2,y_train2)"
   ]
  },
  {
   "cell_type": "code",
   "execution_count": 105,
   "metadata": {},
   "outputs": [
    {
     "name": "stderr",
     "output_type": "stream",
     "text": [
      "C:\\Users\\bosed\\AppData\\Local\\Continuum\\anaconda3\\lib\\site-packages\\sklearn\\model_selection\\_split.py:1978: FutureWarning: The default value of cv will change from 3 to 5 in version 0.22. Specify it explicitly to silence this warning.\n",
      "  warnings.warn(CV_WARNING, FutureWarning)\n",
      "C:\\Users\\bosed\\AppData\\Local\\Continuum\\anaconda3\\lib\\site-packages\\sklearn\\model_selection\\_split.py:657: Warning: The least populated class in y has only 1 members, which is too few. The minimum number of members in any class cannot be less than n_splits=3.\n",
      "  % (min_groups, self.n_splits)), Warning)\n"
     ]
    },
    {
     "name": "stdout",
     "output_type": "stream",
     "text": [
      "[0.07045455 0.0631609  0.06549842]\n"
     ]
    }
   ],
   "source": [
    "print(cross_val_score(modelKnn, X_train2, y_train2)) "
   ]
  },
  {
   "cell_type": "code",
   "execution_count": 113,
   "metadata": {},
   "outputs": [],
   "source": [
    "features2 = np.random.rand(10,12)"
   ]
  },
  {
   "cell_type": "code",
   "execution_count": 114,
   "metadata": {},
   "outputs": [
    {
     "data": {
      "image/png": "[encoded data removed]",
      "text/plain": [
       "<Figure size 432x288 with 2 Axes>"
      ]
     },
     "metadata": {
      "needs_background": "light"
     },
     "output_type": "display_data"
    }
   ],
   "source": [
    "heat_map = sb.heatmap(features2)"
   ]
  },
  {
   "cell_type": "code",
   "execution_count": null,
   "metadata": {},
   "outputs": [],
   "source": []
  }
 ],
 "metadata": {
  "kernelspec": {
   "display_name": "Python 3",
   "language": "python",
   "name": "python3"
  },
  "language_info": {
   "codemirror_mode": {
    "name": "ipython",
    "version": 3
   },
   "file_extension": ".py",
   "mimetype": "text/x-python",
   "name": "python",
   "nbconvert_exporter": "python",
   "pygments_lexer": "ipython3",
   "version": "3.7.4"
  }
 },
 "nbformat": 4,
 "nbformat_minor": 2
}
